{
 "cells": [
  {
   "cell_type": "code",
   "execution_count": 1,
   "metadata": {},
   "outputs": [],
   "source": [
    "import pyinterp\n",
    "import netCDF4\n",
    "import numpy as np\n",
    "import matplotlib.pylab as plt\n",
    "import glob\n",
    "from yaml import load, Loader\n",
    "import scipy.signal\n",
    "#import matplotlib.dates as dates\n",
    "import sys\n",
    "sys.path.append('/home/ad/ballarm/scratch/OSE_intercomparison/scuba/src')  \n",
    "\n",
    "from scuba.src.mod_constant import *\n",
    "from scuba.src.mod_segmentation import *\n",
    "from scuba.src.mod_spectral import *\n",
    "\n",
    "from src.mod_mission import *\n",
    "from src.mod_write import *\n",
    "from src.mod_filter import *\n",
    "from src.mod_grid import *\n",
    "from src.mod_alongtrack import *"
   ]
  },
  {
   "cell_type": "code",
   "execution_count": 2,
   "metadata": {},
   "outputs": [],
   "source": [
    "# independent along-track\n",
    "residus_files_cmems = '/home/ad/ballarm/scratch/data/CMEMS/dt-along-track/zarr/c2'\n",
    "mission = 'c2'\n",
    "mission_management = '/home/ad/ballarm/tools/scuba/share/MissionManagement.yaml'\n",
    "# study area\n",
    "lon_min = 0.\n",
    "lon_max = 360.\n",
    "lat_min = -90.\n",
    "lat_max = 90.\n",
    "is_circle = False\n",
    "time_min = '2017-01-01'\n",
    "time_max = '2017-12-31'\n",
    "bin_lat_step = 1.\n",
    "bin_lon_step = 1.\n",
    "bin_time_step = '1D'"
   ]
  },
  {
   "cell_type": "code",
   "execution_count": 3,
   "metadata": {},
   "outputs": [],
   "source": [
    "# DUACS maps\n",
    "grid_files_duacs = '/home/ad/ballarm/scratch/OSE_intercomparison/data/OSE_GULFSTREAM_FPGENN_clean.nc'\n",
    "var2add_duacs = ['OI'] #  \n",
    "var2sub_duacs = []\n",
    "YAML = load(open(str('scuba_alongtrack_DUACS.yaml')), Loader=Loader)\n",
    "output_filename_duacs = 'psd_OSE_GULFSTREAM_DUACS_'+time_min+'-'+time_max+'_'+mission+'_vxxc.nc'\n",
    "\n",
    "grid_files_miost = '/home/ad/ballarm/scratch/OSE_intercomparison/data/OSE_GULFSTREAM_MIOST.nc'\n",
    "var2add_miost = ['Hls', 'Hss', 'Hb', 'MDH'] #  \n",
    "var2sub_miost = []\n",
    "YAML = load(open(str('scuba_alongtrack_DUACS.yaml')), Loader=Loader)\n",
    "output_filename_miost = 'psd_OSE_GULFSTREAM_MIOST_'+time_min+'-'+time_max+'_'+mission+'_vxxc.nc'\n",
    "\n",
    "grid_files_dymost_static = '/home/ad/ballarm/scratch/OSE_intercomparison/data/OSE_GULFSTREAM_DYMOST_STATIC.nc'\n",
    "var2add_dymost = ['Ha']\n",
    "var2sub_dymost = []\n",
    "YAML = load(open(str('scuba_alongtrack_DUACS.yaml')), Loader=Loader)\n",
    "output_filename_dymost_static = 'psd_OSE_GULFSTREAM_DYMOST_STATIC_'+time_min+'-'+time_max+'_'+mission+'_vxxc.nc'\n",
    "\n",
    "grid_files_dymost_dynamic = '/home/ad/ballarm/scratch/OSE_intercomparison/data/OSE_GULFSTREAM_DYMOST_DYNAMIC.nc'\n",
    "var2add_dymost = ['Ha']\n",
    "var2sub_dymost = []\n",
    "YAML = load(open(str('scuba_alongtrack_DUACS.yaml')), Loader=Loader)\n",
    "output_filename_dymost_dyn = 'psd_OSE_GULFSTREAM_DYMOST_DYNAMIC_'+time_min+'-'+time_max+'_'+mission+'_vxxc.nc'\n",
    "\n",
    "grid_files_dymost_dynamic_1_8 = '/home/ad/ballarm/scratch/OSE_intercomparison/data/OSE_GULFSTREAM_DYMOST_DYNAMIC_1_8.nc'\n",
    "var2add_dymost = ['Ha']\n",
    "var2sub_dymost = []\n",
    "YAML = load(open(str('scuba_alongtrack_DUACS.yaml')), Loader=Loader)\n",
    "output_filename_dymost_dyn_1_8 = 'psd_OSE_GULFSTREAM_DYMOST_DYNAMIC_1_8_'+time_min+'-'+time_max+'_'+mission+'_vxxc.nc'\n",
    "\n",
    "\n",
    "grid_files_fpgenn = '/home/ad/ballarm/scratch/OSE_intercomparison/data/OSE_GULFSTREAM_FPGENN_clean.nc'\n",
    "var2add_fpgenn = ['FP-GENN'] #  \n",
    "var2sub_fpgenn = []\n",
    "YAML = load(open(str('scuba_alongtrack_DUACS.yaml')), Loader=Loader)\n",
    "output_filename_fpgenn = 'psd_OSE_GULFSTREAM_FP-GENN_'+time_min+'-'+time_max+'_'+mission+'_vxxc.nc'\n",
    "\n",
    "grid_files_bfn = '/home/ad/ballarm/scratch/OSE_intercomparison/data/OSE_GULFSTREAM_BFN.nc'\n",
    "var2add_bfn = ['SSH'] #  \n",
    "var2sub_bfn = []\n",
    "YAML = load(open(str('scuba_alongtrack_DUACS.yaml')), Loader=Loader)\n",
    "output_filename_bfn = 'psd_OSE_GULFSTREAM_BFN_'+time_min+'-'+time_max+'_'+mission+'_vxxc.nc'\n",
    "\n",
    "grid_files_bfn_v0 = '/home/ad/ballarm/scratch/OSE_intercomparison/data/OSE_GULFSTREAM_BFN_v0.nc'\n",
    "var2add_bfn = ['SSH'] #  \n",
    "var2sub_bfn = []\n",
    "YAML = load(open(str('scuba_alongtrack_DUACS.yaml')), Loader=Loader)\n",
    "output_filename_bfn_v0 = 'psd_OSE_GULFSTREAM_BFN_v0_'+time_min+'-'+time_max+'_'+mission+'_vxxc.nc'"
   ]
  },
  {
   "cell_type": "code",
   "execution_count": 4,
   "metadata": {},
   "outputs": [],
   "source": [
    "flag_duacs = False\n",
    "flag_miost = False\n",
    "flag_dymost_static = False\n",
    "flag_dymost_dynamic = False\n",
    "flag_dymost_dynamic_1_8 = False\n",
    "flag_fpgenn = False\n",
    "flag_bfn = False\n",
    "flag_bfn_v0 = True"
   ]
  },
  {
   "cell_type": "code",
   "execution_count": 5,
   "metadata": {},
   "outputs": [],
   "source": [
    "# Read SSH grid DUACS\n",
    "if flag_duacs:\n",
    "    output_filename = output_filename_duacs \n",
    "    x_axis, y_axis, z_axis, grid = fpgenn_grid_dataset(grid_files_duacs, var2add_duacs, var2sub_duacs,\n",
    "                                                       lon_min=lon_min, lon_max=lon_max, \n",
    "                                                       lat_min=lat_min, lat_max=lat_max, \n",
    "                                                       time_min=time_min, time_max=time_max,\n",
    "                                                       is_circle=is_circle) \n",
    "    \n",
    "    #x_axis, y_axis, z_axis, grid = duacs_grid_dataset(grid_files_duacs, \n",
    "    #                                                  lon_min=lon_min, lon_max=lon_max, \n",
    "    #                                                  lat_min=lat_min, lat_max=lat_max, \n",
    "    #                                                  time_min=time_min, time_max=time_max,\n",
    "    #                                                  is_circle=is_circle)"
   ]
  },
  {
   "cell_type": "code",
   "execution_count": 6,
   "metadata": {},
   "outputs": [],
   "source": [
    "# Read SSH grid MIOST\n",
    "if flag_miost:\n",
    "    output_filename = output_filename_miost\n",
    "    x_axis, y_axis, z_axis, grid = miost_grid_dataset(grid_files_miost, var2add_miost, var2sub_miost,\n",
    "                                                      lon_min=lon_min, lon_max=lon_max, \n",
    "                                                      lat_min=lat_min, lat_max=lat_max, \n",
    "                                                      time_min=time_min, time_max=time_max,\n",
    "                                                      is_circle=is_circle)"
   ]
  },
  {
   "cell_type": "code",
   "execution_count": 7,
   "metadata": {},
   "outputs": [],
   "source": [
    "# Read SSH grid DYMOST\n",
    "if flag_dymost_static:\n",
    "    output_filename = output_filename_dymost_static    \n",
    "    x_axis, y_axis, z_axis, grid = dymost_grid_dataset(grid_files_dymost_static, var2add_dymost, var2sub_dymost,\n",
    "                                                       lon_min=lon_min, lon_max=lon_max, \n",
    "                                                       lat_min=lat_min, lat_max=lat_max, \n",
    "                                                       time_min=time_min, time_max=time_max,\n",
    "                                                       is_circle=is_circle)"
   ]
  },
  {
   "cell_type": "code",
   "execution_count": 8,
   "metadata": {},
   "outputs": [],
   "source": [
    "# Read SSH grid DYMOST\n",
    "if flag_dymost_dynamic:\n",
    "    output_filename = output_filename_dymost_dyn    \n",
    "    x_axis, y_axis, z_axis, grid = dymost_grid_dataset(grid_files_dymost_dynamic, var2add_dymost, var2sub_dymost,\n",
    "                                                       lon_min=lon_min, lon_max=lon_max, \n",
    "                                                       lat_min=lat_min, lat_max=lat_max, \n",
    "                                                       time_min=time_min, time_max=time_max,\n",
    "                                                       is_circle=is_circle)"
   ]
  },
  {
   "cell_type": "code",
   "execution_count": 9,
   "metadata": {},
   "outputs": [],
   "source": [
    "# Read SSH grid DYMOST\n",
    "if flag_dymost_dynamic_1_8:\n",
    "    output_filename = output_filename_dymost_dyn_1_8    \n",
    "    x_axis, y_axis, z_axis, grid = dymost_grid_dataset(grid_files_dymost_dynamic_1_8, var2add_dymost, var2sub_dymost,\n",
    "                                                       lon_min=lon_min, lon_max=lon_max, \n",
    "                                                       lat_min=lat_min, lat_max=lat_max, \n",
    "                                                       time_min=time_min, time_max=time_max,\n",
    "                                                       is_circle=is_circle)"
   ]
  },
  {
   "cell_type": "code",
   "execution_count": 10,
   "metadata": {},
   "outputs": [],
   "source": [
    "if flag_fpgenn:\n",
    "    output_filename = output_filename_fpgenn    \n",
    "    x_axis, y_axis, z_axis, grid = fpgenn_grid_dataset(grid_files_fpgenn, var2add_fpgenn, var2sub_fpgenn,\n",
    "                                                       lon_min=lon_min, lon_max=lon_max, \n",
    "                                                       lat_min=lat_min, lat_max=lat_max, \n",
    "                                                       time_min=time_min, time_max=time_max,\n",
    "                                                       is_circle=is_circle)    "
   ]
  },
  {
   "cell_type": "code",
   "execution_count": 11,
   "metadata": {},
   "outputs": [],
   "source": [
    "if flag_bfn:\n",
    "    output_filename = output_filename_bfn    \n",
    "    x_axis, y_axis, z_axis, grid = bfn_grid_dataset(grid_files_bfn, var2add_bfn, var2sub_bfn,\n",
    "                                                       lon_min=lon_min, lon_max=lon_max, \n",
    "                                                       lat_min=lat_min, lat_max=lat_max, \n",
    "                                                       time_min=time_min, time_max=time_max,\n",
    "                                                       is_circle=is_circle) "
   ]
  },
  {
   "cell_type": "code",
   "execution_count": 13,
   "metadata": {},
   "outputs": [],
   "source": [
    "if flag_bfn_v0:\n",
    "    output_filename = output_filename_bfn_v0    \n",
    "    x_axis, y_axis, z_axis, grid = bfn_grid_dataset(grid_files_bfn_v0, var2add_bfn, var2sub_bfn,\n",
    "                                                       lon_min=lon_min, lon_max=lon_max, \n",
    "                                                       lat_min=lat_min, lat_max=lat_max, \n",
    "                                                       time_min=time_min, time_max=time_max,\n",
    "                                                       is_circle=is_circle) "
   ]
  },
  {
   "cell_type": "code",
   "execution_count": 14,
   "metadata": {},
   "outputs": [],
   "source": [
    "# Read along-track\n",
    "ds_alongtrack = cmems_alongtrack_dataset(residus_files_cmems, \n",
    "                                          lon_min=lon_min, lon_max=lon_max, \n",
    "                                          lat_min=lat_min, lat_max=lat_max, \n",
    "                                          time_min=time_min, time_max=time_max)"
   ]
  },
  {
   "cell_type": "code",
   "execution_count": 15,
   "metadata": {},
   "outputs": [],
   "source": [
    "# Interpolate maps on alongtrack\n",
    "map_interp = pyinterp.trivariate(grid, \n",
    "                                 ds_alongtrack[\"longitude\"].values, \n",
    "                                 ds_alongtrack[\"latitude\"].values,\n",
    "                                 z_axis.safe_cast(ds_alongtrack.time.values),\n",
    "                                 bounds_error=False).reshape(ds_alongtrack[\"longitude\"].values.shape)"
   ]
  },
  {
   "cell_type": "code",
   "execution_count": 16,
   "metadata": {},
   "outputs": [],
   "source": [
    "ssh_alongtrack = ds_alongtrack[\"SLA\"].values + ds_alongtrack[\"mdt\"].values\n",
    "lon_alongtrack = ds_alongtrack[\"longitude\"].values\n",
    "lat_alongtrack = ds_alongtrack[\"latitude\"].values\n",
    "time_alongtrack = ds_alongtrack[\"time\"].values"
   ]
  },
  {
   "cell_type": "code",
   "execution_count": 17,
   "metadata": {},
   "outputs": [],
   "source": [
    "# get mask from map_interp\n",
    "msk1 = np.ma.masked_invalid(ssh_alongtrack).mask\n",
    "msk2 = np.ma.masked_invalid(map_interp).mask\n",
    "msk = msk1+msk2\n",
    "\n",
    "ssh_alongtrack = np.ma.masked_where(msk, ssh_alongtrack).compressed()\n",
    "lon_alongtrack = np.ma.masked_where(msk, lon_alongtrack).compressed()\n",
    "lat_alongtrack = np.ma.masked_where(msk, lat_alongtrack).compressed()\n",
    "time_alongtrack = np.ma.masked_where(msk, time_alongtrack).compressed()\n",
    "map_interp = np.ma.masked_where(msk, map_interp).compressed()"
   ]
  },
  {
   "cell_type": "code",
   "execution_count": 18,
   "metadata": {},
   "outputs": [
    {
     "name": "stderr",
     "output_type": "stream",
     "text": [
      "/softs/rh7/conda/4.5.4/envs/pangeo_full_201909/lib/python3.7/site-packages/ipykernel_launcher.py:2: DeprecationWarning: parsing timezone aware datetimes is deprecated; this will raise an error in the future\n",
      "  \n"
     ]
    }
   ],
   "source": [
    "# make time vector as days since 1950-01-01\n",
    "time_alongtrack = (time_alongtrack - np.datetime64('1950-01-01T00:00:00Z')) / np.timedelta64(1, 'D')"
   ]
  },
  {
   "cell_type": "code",
   "execution_count": 19,
   "metadata": {},
   "outputs": [],
   "source": [
    "ref_segment, lon_segment, lat_segment, delta_x, npt, study_segment = compute_segment_alongtrack(ssh_alongtrack,\n",
    "                                                                                                lon_alongtrack,\n",
    "                                                                                                lat_alongtrack,\n",
    "                                                                                                time_alongtrack,\n",
    "                                                                                                YAML,\n",
    "                                                                                                map_interp)"
   ]
  },
  {
   "cell_type": "code",
   "execution_count": 20,
   "metadata": {},
   "outputs": [],
   "source": [
    "# Power spectrum density reference field\n",
    "global_wavenumber, global_psd_ref = scipy.signal.welch(np.asarray(ref_segment).flatten(),\n",
    "                                                           fs=1.0 / delta_x,\n",
    "                                                           nperseg=npt,\n",
    "                                                           scaling='density',\n",
    "                                                           noverlap=0)\n",
    "\n",
    "    # Power spectrum density study field\n",
    "_, global_psd_study = scipy.signal.welch(np.asarray(study_segment).flatten(),\n",
    "                                             fs=1.0 / delta_x,\n",
    "                                             nperseg=npt,\n",
    "                                             scaling='density',\n",
    "                                             noverlap=0)\n",
    "\n",
    "    # Power spectrum density study field\n",
    "_, global_psd_diff = scipy.signal.welch(np.asarray(study_segment).flatten()-np.asarray(ref_segment).flatten(),\n",
    "                                             fs=1.0 / delta_x,\n",
    "                                             nperseg=npt,\n",
    "                                             scaling='density',\n",
    "                                             noverlap=0)"
   ]
  },
  {
   "cell_type": "code",
   "execution_count": 21,
   "metadata": {},
   "outputs": [],
   "source": [
    "ds = xr.Dataset({\"psd_ref\": ([\"wavenumber\"], global_psd_ref),\n",
    "                 \"psd_study\": ([\"wavenumber\"], global_psd_study),\n",
    "                 \"psd_diff\": ([\"wavenumber\"], global_psd_diff),\n",
    "                },\n",
    "                coords={\"wavenumber\": ([\"wavenumber\"], global_wavenumber),\n",
    "                       },\n",
    "               )\n",
    "ds.to_netcdf(output_filename)"
   ]
  },
  {
   "cell_type": "code",
   "execution_count": null,
   "metadata": {},
   "outputs": [],
   "source": []
  },
  {
   "cell_type": "code",
   "execution_count": null,
   "metadata": {},
   "outputs": [],
   "source": []
  }
 ],
 "metadata": {
  "kernelspec": {
   "display_name": "Pangeo 2019-09",
   "language": "python",
   "name": "pangeo_201909"
  },
  "language_info": {
   "codemirror_mode": {
    "name": "ipython",
    "version": 3
   },
   "file_extension": ".py",
   "mimetype": "text/x-python",
   "name": "python",
   "nbconvert_exporter": "python",
   "pygments_lexer": "ipython3",
   "version": "3.7.3"
  }
 },
 "nbformat": 4,
 "nbformat_minor": 4
}
