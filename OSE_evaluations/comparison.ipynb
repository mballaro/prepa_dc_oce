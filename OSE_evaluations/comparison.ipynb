{
 "cells": [
  {
   "cell_type": "code",
   "execution_count": 1,
   "metadata": {},
   "outputs": [],
   "source": [
    "import pyinterp\n",
    "import netCDF4\n",
    "import numpy as np\n",
    "import matplotlib.pylab as plt\n",
    "import glob\n",
    "\n",
    "from src.mod_mission import *\n",
    "from src.mod_write import *\n",
    "from src.mod_filter import *\n",
    "from src.mod_grid import *\n",
    "from src.mod_alongtrack import *"
   ]
  },
  {
   "cell_type": "code",
   "execution_count": 2,
   "metadata": {},
   "outputs": [],
   "source": [
    "# independent along-track\n",
    "residus_files_cmems = '/home/ad/ballarm/scratch/data/CMEMS/dt-along-track/zarr/c2'\n",
    "mission = 'c2'\n",
    "mission_management = '/home/ad/ballarm/tools/scuba/share/MissionManagement.yaml'\n",
    "# study area\n",
    "lon_min = 0.\n",
    "lon_max = 360.\n",
    "lat_min = -90.\n",
    "lat_max = 90.\n",
    "is_circle = False\n",
    "time_min = '2017-01-01'\n",
    "time_max = '2017-12-31'\n",
    "bin_lat_step = 1.\n",
    "bin_lon_step = 1.\n",
    "bin_time_step = '1D'"
   ]
  },
  {
   "cell_type": "code",
   "execution_count": 3,
   "metadata": {},
   "outputs": [],
   "source": [
    "# DUACS maps\n",
    "grid_files_duacs = '/home/ad/ballarm/scratch/OSE_intercomparison/data/OSE_GULFSTREAM_FPGENN_clean.nc'\n",
    "var2add_duacs = ['OI'] #  \n",
    "var2sub_duacs = []\n",
    "output_filename_duacs = 'stat_OSE_GULFSTREAM_DUACS_'+time_min+'-'+time_max+'_'+mission+'_vxxc.nc'\n",
    "output_filename_timeseries_duacs = 'stat_timeseries_OSE_GULFSTREAM_DUACS_'+time_min+'-'+time_max+'_'+mission+'_vxxc.nc'\n",
    "\n",
    "grid_files_miost = '/home/ad/ballarm/scratch/OSE_intercomparison/data/OSE_GULFSTREAM_MIOST.nc'\n",
    "var2add_miost = ['Hls', 'Hss', 'Hb', 'MDH'] #  \n",
    "var2sub_miost = []\n",
    "output_filename_miost = 'stat_OSE_GULFSTREAM_MIOST_'+time_min+'-'+time_max+'_'+mission+'_vxxc.nc'\n",
    "output_filename_timeseries_miost = 'stat_timeseries_OSE_GULFSTREAM_MIOST_'+time_min+'-'+time_max+'_'+mission+'_vxxc.nc'\n",
    "\n",
    "grid_files_dymost_static = '/home/ad/ballarm/scratch/OSE_intercomparison/data/OSE_GULFSTREAM_DYMOST_STATIC.nc'\n",
    "var2add_dymost = ['Ha']\n",
    "var2sub_dymost = []\n",
    "output_filename_dymost_static = 'stat_OSE_GULFSTREAM_DYMOST_STATIC_'+time_min+'-'+time_max+'_'+mission+'_vxxc.nc'\n",
    "output_filename_timeseries_dymost_static = 'stat_timeseries_OSE_GULFSTREAM_DYMOST_STATIC_'+time_min+'-'+time_max+'_'+mission+'_vxxc.nc'\n",
    "\n",
    "grid_files_dymost_dynamic = '/home/ad/ballarm/scratch/OSE_intercomparison/data/OSE_GULFSTREAM_DYMOST_DYNAMIC.nc'\n",
    "var2add_dymost = ['Ha']\n",
    "var2sub_dymost = []\n",
    "output_filename_dymost_dyn = 'stat_OSE_GULFSTREAM_DYMOST_DYNAMIC_'+time_min+'-'+time_max+'_'+mission+'_vxxc.nc'\n",
    "output_filename_timeseries_dymost_dyn = 'stat_timeseries_OSE_GULFSTREAM_DYMOST_DYNAMIC_'+time_min+'-'+time_max+'_'+mission+'_vxxc.nc'\n",
    "\n",
    "grid_files_fpgenn = '/home/ad/ballarm/scratch/OSE_intercomparison/data/OSE_GULFSTREAM_FPGENN_clean.nc'\n",
    "var2add_fpgenn = ['FP-GENN'] #  \n",
    "var2sub_fpgenn = []\n",
    "output_filename_fpgenn = 'stat_OSE_GULFSTREAM_FP-GENN_'+time_min+'-'+time_max+'_'+mission+'_vxxc.nc'\n",
    "output_filename_timeseries_fpgenn = 'stat_timeseries_OSE_GULFSTREAM_FP-GENN_'+time_min+'-'+time_max+'_'+mission+'_vxxc.nc'\n",
    "\n",
    "grid_files_bfn = '/home/ad/ballarm/scratch/OSE_intercomparison/data/OSE_GULFSTREAM_BFN_v0.nc'\n",
    "var2add_bfn = ['SSH'] #  \n",
    "var2sub_bfn = []\n",
    "output_filename_bfn = 'stat_OSE_GULFSTREAM_BFN_'+time_min+'-'+time_max+'_'+mission+'_vxxc.nc'\n",
    "output_filename_timeseries_bfn = 'stat_timeseries_OSE_GULFSTREAM_BFN_'+time_min+'-'+time_max+'_'+mission+'_vxxc.nc'"
   ]
  },
  {
   "cell_type": "code",
   "execution_count": 4,
   "metadata": {},
   "outputs": [],
   "source": [
    "flag_duacs = False\n",
    "flag_miost = False\n",
    "flag_dymost_static = False\n",
    "flag_dymost_dynamic = False\n",
    "flag_fpgenn = False\n",
    "flag_bfn = True"
   ]
  },
  {
   "cell_type": "code",
   "execution_count": 5,
   "metadata": {},
   "outputs": [],
   "source": [
    "# Read SSH grid DUACS\n",
    "if flag_duacs:\n",
    "    output_filename = output_filename_duacs \n",
    "    output_filename_timeseries = output_filename_timeseries_duacs\n",
    "    x_axis, y_axis, z_axis, grid = fpgenn_grid_dataset(grid_files_duacs, var2add_duacs, var2sub_duacs,\n",
    "                                                       lon_min=lon_min, lon_max=lon_max, \n",
    "                                                       lat_min=lat_min, lat_max=lat_max, \n",
    "                                                       time_min=time_min, time_max=time_max,\n",
    "                                                       is_circle=is_circle) \n",
    "    \n",
    "    #x_axis, y_axis, z_axis, grid = duacs_grid_dataset(grid_files_duacs, \n",
    "    #                                                  lon_min=lon_min, lon_max=lon_max, \n",
    "    #                                                  lat_min=lat_min, lat_max=lat_max, \n",
    "    #                                                  time_min=time_min, time_max=time_max,\n",
    "    #                                                  is_circle=is_circle)"
   ]
  },
  {
   "cell_type": "code",
   "execution_count": 6,
   "metadata": {},
   "outputs": [],
   "source": [
    "# Read SSH grid MIOST\n",
    "if flag_miost:\n",
    "    output_filename = output_filename_miost\n",
    "    output_filename_timeseries = output_filename_timeseries_miost\n",
    "    \n",
    "    x_axis, y_axis, z_axis, grid = miost_grid_dataset(grid_files_miost, var2add_miost, var2sub_miost,\n",
    "                                                      lon_min=lon_min, lon_max=lon_max, \n",
    "                                                      lat_min=lat_min, lat_max=lat_max, \n",
    "                                                      time_min=time_min, time_max=time_max,\n",
    "                                                      is_circle=is_circle)"
   ]
  },
  {
   "cell_type": "code",
   "execution_count": 7,
   "metadata": {},
   "outputs": [],
   "source": [
    "# Read SSH grid DYMOST\n",
    "if flag_dymost_static:\n",
    "    output_filename = output_filename_dymost_static \n",
    "    output_filename_timeseries = output_filename_timeseries_dymost_static\n",
    "    \n",
    "    x_axis, y_axis, z_axis, grid = dymost_grid_dataset(grid_files_dymost_static, var2add_dymost, var2sub_dymost,\n",
    "                                                       lon_min=lon_min, lon_max=lon_max, \n",
    "                                                       lat_min=lat_min, lat_max=lat_max, \n",
    "                                                       time_min=time_min, time_max=time_max,\n",
    "                                                       is_circle=is_circle)"
   ]
  },
  {
   "cell_type": "code",
   "execution_count": 8,
   "metadata": {},
   "outputs": [],
   "source": [
    "# Read SSH grid DYMOST\n",
    "if flag_dymost_dynamic:\n",
    "    output_filename = output_filename_dymost_dyn \n",
    "    output_filename_timeseries = output_filename_timeseries_dymost_dyn\n",
    "    \n",
    "    x_axis, y_axis, z_axis, grid = dymost_grid_dataset(grid_files_dymost_dynamic, var2add_dymost, var2sub_dymost,\n",
    "                                                       lon_min=lon_min, lon_max=lon_max, \n",
    "                                                       lat_min=lat_min, lat_max=lat_max, \n",
    "                                                       time_min=time_min, time_max=time_max,\n",
    "                                                       is_circle=is_circle)"
   ]
  },
  {
   "cell_type": "code",
   "execution_count": 9,
   "metadata": {},
   "outputs": [],
   "source": [
    "if flag_fpgenn:\n",
    "    output_filename = output_filename_fpgenn \n",
    "    output_filename_timeseries = output_filename_timeseries_fpgenn\n",
    "    \n",
    "    x_axis, y_axis, z_axis, grid = fpgenn_grid_dataset(grid_files_fpgenn, var2add_fpgenn, var2sub_fpgenn,\n",
    "                                                       lon_min=lon_min, lon_max=lon_max, \n",
    "                                                       lat_min=lat_min, lat_max=lat_max, \n",
    "                                                       time_min=time_min, time_max=time_max,\n",
    "                                                       is_circle=is_circle)    "
   ]
  },
  {
   "cell_type": "code",
   "execution_count": 10,
   "metadata": {},
   "outputs": [],
   "source": [
    "if flag_bfn:\n",
    "    output_filename = output_filename_bfn\n",
    "    output_filename_timeseries = output_filename_timeseries_bfn\n",
    "    \n",
    "    x_axis, y_axis, z_axis, grid = bfn_grid_dataset(grid_files_bfn, var2add_bfn, var2sub_bfn,\n",
    "                                                       lon_min=lon_min, lon_max=lon_max, \n",
    "                                                       lat_min=lat_min, lat_max=lat_max, \n",
    "                                                       time_min=time_min, time_max=time_max,\n",
    "                                                       is_circle=is_circle)    "
   ]
  },
  {
   "cell_type": "code",
   "execution_count": null,
   "metadata": {},
   "outputs": [],
   "source": []
  },
  {
   "cell_type": "code",
   "execution_count": 11,
   "metadata": {},
   "outputs": [],
   "source": [
    "# Read along-track\n",
    "ds_alongtrack = cmems_alongtrack_dataset(residus_files_cmems, \n",
    "                                          lon_min=lon_min, lon_max=lon_max, \n",
    "                                          lat_min=lat_min, lat_max=lat_max, \n",
    "                                          time_min=time_min, time_max=time_max)"
   ]
  },
  {
   "cell_type": "code",
   "execution_count": null,
   "metadata": {},
   "outputs": [],
   "source": []
  },
  {
   "cell_type": "code",
   "execution_count": 12,
   "metadata": {},
   "outputs": [],
   "source": [
    "# Interpolate maps on alongtrack\n",
    "map_interp = pyinterp.trivariate(grid, \n",
    "                                 ds_alongtrack[\"longitude\"].values, \n",
    "                                 ds_alongtrack[\"latitude\"].values,\n",
    "                                 z_axis.safe_cast(ds_alongtrack.time.values),\n",
    "                                 bounds_error=False).reshape(ds_alongtrack[\"longitude\"].values.shape)"
   ]
  },
  {
   "cell_type": "code",
   "execution_count": 13,
   "metadata": {},
   "outputs": [],
   "source": [
    "ssh_alongtrack = ds_alongtrack[\"SLA\"].values + ds_alongtrack[\"mdt\"].values\n",
    "lon_alongtrack = ds_alongtrack[\"longitude\"].values\n",
    "lat_alongtrack = ds_alongtrack[\"latitude\"].values\n",
    "time_alongtrack = ds_alongtrack[\"time\"].values"
   ]
  },
  {
   "cell_type": "code",
   "execution_count": 14,
   "metadata": {},
   "outputs": [],
   "source": [
    "# get mask from map_interp\n",
    "msk1 = np.ma.masked_invalid(ssh_alongtrack).mask\n",
    "msk2 = np.ma.masked_invalid(map_interp).mask\n",
    "msk = msk1+msk2\n",
    "\n",
    "ssh_alongtrack = np.ma.masked_where(msk, ssh_alongtrack).compressed()\n",
    "lon_alongtrack = np.ma.masked_where(msk, lon_alongtrack).compressed()\n",
    "lat_alongtrack = np.ma.masked_where(msk, lat_alongtrack).compressed()\n",
    "time_alongtrack = np.ma.masked_where(msk, time_alongtrack).compressed()\n",
    "map_interp = np.ma.masked_where(msk, map_interp).compressed()"
   ]
  },
  {
   "cell_type": "code",
   "execution_count": 15,
   "metadata": {},
   "outputs": [],
   "source": [
    "ncfile = netCDF4.Dataset(output_filename,'w')\n",
    "\n",
    "binning = pyinterp.Binning2D(\n",
    "    pyinterp.Axis(np.arange(0, 360, bin_lon_step), is_circle=True),\n",
    "    pyinterp.Axis(np.arange(-90, 90 + bin_lat_step, bin_lat_step)))\n",
    "\n",
    "# binning alongtrack\n",
    "binning.push(lon_alongtrack, lat_alongtrack, ssh_alongtrack, simple=True)\n",
    "write_stat(ncfile, 'alongtrack', binning)\n",
    "binning.clear()\n",
    "\n",
    "# binning map interp\n",
    "binning.push(lon_alongtrack, lat_alongtrack, map_interp, simple=True)\n",
    "write_stat(ncfile, 'maps', binning)\n",
    "binning.clear()\n",
    "\n",
    "# binning diff sla-msla\n",
    "binning.push(lon_alongtrack, lat_alongtrack, ssh_alongtrack - map_interp, simple=True)\n",
    "write_stat(ncfile, 'diff', binning)\n",
    "binning.clear()\n",
    "\n",
    "# add rmse\n",
    "diff2 = (ssh_alongtrack - map_interp)**2\n",
    "binning.push(lon_alongtrack, lat_alongtrack, diff2, simple=True)\n",
    "var = ncfile.groups['diff'].createVariable('rmse', binning.variable('mean').dtype, ('lat','lon'), zlib=True)\n",
    "var[:, :] = np.sqrt(binning.variable('mean')).T  \n",
    "    \n",
    "ncfile.close()"
   ]
  },
  {
   "cell_type": "code",
   "execution_count": 16,
   "metadata": {},
   "outputs": [],
   "source": [
    "write_timeserie_stat(ssh_alongtrack-map_interp, time_alongtrack, bin_time_step, output_filename_timeseries)"
   ]
  },
  {
   "cell_type": "code",
   "execution_count": null,
   "metadata": {},
   "outputs": [],
   "source": []
  },
  {
   "cell_type": "code",
   "execution_count": null,
   "metadata": {},
   "outputs": [],
   "source": []
  }
 ],
 "metadata": {
  "kernelspec": {
   "display_name": "Pangeo 2019-09",
   "language": "python",
   "name": "pangeo_201909"
  },
  "language_info": {
   "codemirror_mode": {
    "name": "ipython",
    "version": 3
   },
   "file_extension": ".py",
   "mimetype": "text/x-python",
   "name": "python",
   "nbconvert_exporter": "python",
   "pygments_lexer": "ipython3",
   "version": "3.7.3"
  }
 },
 "nbformat": 4,
 "nbformat_minor": 4
}
